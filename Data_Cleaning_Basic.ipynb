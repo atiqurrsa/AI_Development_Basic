{
 "cells": [
  {
   "cell_type": "code",
   "execution_count": 27,
   "id": "fdc01cb6-c88c-425a-9e22-e9386d2b2455",
   "metadata": {},
   "outputs": [
    {
     "name": "stdout",
     "output_type": "stream",
     "text": [
      "    Name Age  Salary\n",
      "0   Jhon  25   30000\n",
      "1  peter  28   45000\n",
      "2   Lisa  31   65000\n"
     ]
    }
   ],
   "source": [
    "import pandas as pd\n",
    "import numpy as np\n",
    "data_x=pd.read_excel('/Users/atiqurrahman/Documents/demodata.xlsx')\n",
    "\n",
    "\n",
    "#create dataframe\n",
    "data = {\n",
    "    \"Name\":[\"Jhon\",\"peter\",\"Lisa\"],\n",
    "    \"Age\":[\"25\",\"28\",\"31\"],\n",
    "    \"Salary\":[30000,45000,65000]\n",
    "}\n",
    "print(pd.DataFrame(data))\n"
   ]
  },
  {
   "cell_type": "code",
   "execution_count": 10,
   "id": "aba4c0de-17f4-4fc2-83bc-38c2ed8436ea",
   "metadata": {},
   "outputs": [
    {
     "name": "stdout",
     "output_type": "stream",
     "text": [
      "    1    3  -213.25   38.94\n",
      "0   2  293   457.81  208.16\n",
      "1   3  293    46.71    8.69\n",
      "2   4  483  1198.97  195.99\n",
      "3   5  515    30.94   21.78\n",
      "4   6  515     4.43    6.64\n",
      "5   7  613   -54.04    7.30\n",
      "6   8  613   127.70   42.76\n",
      "7   9  643  -695.26  138.14\n",
      "8  10  678  -226.36    4.98\n"
     ]
    }
   ],
   "source": [
    "#load csv file\n",
    "data_c = pd.read_csv('/Users/atiqurrahman/Documents/mycsv.csv')\n",
    "print(data_c)"
   ]
  },
  {
   "cell_type": "code",
   "execution_count": 3,
   "id": "fc9204e0-7a45-41d8-9b5a-1590cb126481",
   "metadata": {},
   "outputs": [
    {
     "name": "stdout",
     "output_type": "stream",
     "text": [
      "  First Name        Country   Age        Date  Id  Bonus%\n",
      "0      Dulce  United States  32.0  15/10/2017  10       0\n",
      "1       Mara  Great Britain   NaN  16/08/2016  11       1\n",
      "2     Philip         France  36.0  21/05/2015  12       3\n",
      "3   Kathleen       Kathleen  13.0  15/10/2017  13       2\n",
      "4     Philip            NaN  58.0  16/08/2016  14       0\n",
      "5     Gaston  United States  24.0  21/05/2015  15       0\n",
      "6       Etta          Japan   NaN  15/10/2017  16       0\n",
      "7      Talli         Norway  45.0  15/10/2017  17       1\n",
      "  First Name        Country   Age        Date  Id  Bonus%\n",
      "0      Dulce  United States  32.0  15/10/2017  10       0\n",
      "1       Mara  Great Britain   NaN  16/08/2016  11       1\n",
      "2     Philip         France  36.0  21/05/2015  12       3\n",
      "3   Kathleen       Kathleen  13.0  15/10/2017  13       2\n",
      "4     Philip            NaN  58.0  16/08/2016  14       0\n",
      "5     Gaston  United States  24.0  21/05/2015  15       0\n",
      "6       Etta          Japan   NaN  15/10/2017  16       0\n",
      "7      Talli         Norway  45.0  15/10/2017  17       1\n",
      "  First Name        Country   Age        Date  Id  Bonus%\n",
      "0      Dulce  United States  32.0  15/10/2017  10       0\n",
      "1       Mara  Great Britain   NaN  16/08/2016  11       1\n",
      "2     Philip         France  36.0  21/05/2015  12       3\n",
      "3   Kathleen       Kathleen  13.0  15/10/2017  13       2\n",
      "4     Philip            NaN  58.0  16/08/2016  14       0\n",
      "5     Gaston  United States  24.0  21/05/2015  15       0\n",
      "6       Etta          Japan   NaN  15/10/2017  16       0\n",
      "7      Talli         Norway  45.0  15/10/2017  17       1\n"
     ]
    }
   ],
   "source": [
    "#load excel file\n",
    "#data_x=pd.read_excel('/Users/atiqurrahman/Documents/demodata.xlsx')\n",
    "print(data_x)\n",
    "print(data_x.head(10))\n",
    "print(data_x.tail(10))"
   ]
  },
  {
   "cell_type": "code",
   "execution_count": 18,
   "id": "5de311e0-8644-49c4-8be0-240541cf5d4b",
   "metadata": {},
   "outputs": [
    {
     "name": "stdout",
     "output_type": "stream",
     "text": [
      "<class 'pandas.core.frame.DataFrame'>\n",
      "RangeIndex: 8 entries, 0 to 7\n",
      "Data columns (total 7 columns):\n",
      " #   Column      Non-Null Count  Dtype  \n",
      "---  ------      --------------  -----  \n",
      " 0   First Name  8 non-null      object \n",
      " 1   Country     7 non-null      object \n",
      " 2   Age         6 non-null      float64\n",
      " 3   Date        8 non-null      object \n",
      " 4   Id          8 non-null      int64  \n",
      " 5   Bonus%      8 non-null      int64  \n",
      " 6   Gender      8 non-null      object \n",
      "dtypes: float64(1), int64(2), object(4)\n",
      "memory usage: 580.0+ bytes\n",
      "None\n"
     ]
    }
   ],
   "source": [
    "#get information of data\n",
    "print(data_x.info())"
   ]
  },
  {
   "cell_type": "code",
   "execution_count": 19,
   "id": "bb3871d3-4a31-407b-a85b-519440d70377",
   "metadata": {},
   "outputs": [
    {
     "name": "stdout",
     "output_type": "stream",
     "text": [
      "             Age         Id\n",
      "count   5.000000   7.000000\n",
      "mean   41.200000  13.000000\n",
      "std    15.073155   2.160247\n",
      "min    24.000000  10.000000\n",
      "25%    32.000000  11.500000\n",
      "50%    36.000000  13.000000\n",
      "75%    56.000000  14.500000\n",
      "max    58.000000  16.000000\n"
     ]
    }
   ],
   "source": [
    "#describe some important parameter about data\n",
    "print(data_x.describe())"
   ]
  },
  {
   "cell_type": "code",
   "execution_count": 7,
   "id": "1f473d59-4930-45fc-9ae4-d5998e4e078e",
   "metadata": {},
   "outputs": [
    {
     "name": "stdout",
     "output_type": "stream",
     "text": [
      "   First Name  Country    Age   Date     Id\n",
      "0       False    False  False  False  False\n",
      "1       False    False   True  False  False\n",
      "2       False    False  False  False  False\n",
      "3       False    False  False  False  False\n",
      "4       False     True  False  False  False\n",
      "5       False    False  False  False  False\n",
      "6       False    False  False  False  False\n",
      "First Name    0\n",
      "Country       1\n",
      "Age           1\n",
      "Date          0\n",
      "Id            0\n",
      "dtype: int64\n"
     ]
    }
   ],
   "source": [
    "#show the null valus\n",
    "print(data_x.isnull())\n",
    "print(data_x.isnull().sum())"
   ]
  },
  {
   "cell_type": "code",
   "execution_count": 9,
   "id": "b2b09298-ca1c-4df9-af49-009d0cc2b017",
   "metadata": {},
   "outputs": [
    {
     "name": "stdout",
     "output_type": "stream",
     "text": [
      "0    False\n",
      "1    False\n",
      "2    False\n",
      "3    False\n",
      "4    False\n",
      "5    False\n",
      "6    False\n",
      "dtype: bool\n"
     ]
    }
   ],
   "source": [
    "#check the duplicate valu in every row\n",
    "print(data_x.duplicated())"
   ]
  },
  {
   "cell_type": "code",
   "execution_count": 31,
   "id": "af9e5d88-03b4-4312-b6f6-e81ea299fcb7",
   "metadata": {},
   "outputs": [
    {
     "name": "stdout",
     "output_type": "stream",
     "text": [
      "0    False\n",
      "2    False\n",
      "3    False\n",
      "5    False\n",
      "6    False\n",
      "Name: Id, dtype: bool\n"
     ]
    }
   ],
   "source": [
    "#check the duplicate value in ID column\n",
    "print(data_x[\"Id\"].duplicated())"
   ]
  },
  {
   "cell_type": "code",
   "execution_count": 10,
   "id": "cc3d4425-e184-4f55-86a6-be172b83c649",
   "metadata": {},
   "outputs": [
    {
     "name": "stdout",
     "output_type": "stream",
     "text": [
      "  First Name        Country   Age        Date  Id\n",
      "0      Dulce  United States  32.0  15/10/2017  10\n",
      "1       Mara  Great Britain   NaN  16/08/2016  11\n",
      "2     Philip         France  36.0  21/05/2015  12\n",
      "3   Kathleen       Kathleen  13.0  15/10/2017  13\n",
      "4     Philip            NaN  58.0  16/08/2016  14\n",
      "6       Etta          Japan  56.0  15/10/2017  16\n"
     ]
    }
   ],
   "source": [
    "#drop the duplicate row by country\n",
    "print(data_x.drop_duplicates(\"Country\"))"
   ]
  },
  {
   "cell_type": "code",
   "execution_count": 3,
   "id": "b2bf1b3e-a9b9-4788-a74c-fa2b47bf00b4",
   "metadata": {},
   "outputs": [
    {
     "name": "stdout",
     "output_type": "stream",
     "text": [
      "  First Name        Country   Age        Date  Id  Bonus%\n",
      "0      Dulce  United States  32.0  15/10/2017  10       0\n",
      "1       Mara  Great Britain   NaN  16/08/2016  11       1\n",
      "2     Philip         France  36.0  21/05/2015  12       3\n",
      "3   Kathleen       Kathleen  13.0  15/10/2017  13       2\n",
      "4     Philip            NaN  58.0  16/08/2016  14       0\n",
      "5     Gaston  United States  24.0  21/05/2015  15       0\n",
      "6       Etta          Japan   NaN  15/10/2017  16       0\n",
      "7      Talli         Norway  45.0  15/10/2017  17       1\n"
     ]
    }
   ],
   "source": [
    "print(data_x)"
   ]
  },
  {
   "cell_type": "code",
   "execution_count": 12,
   "id": "a6fbff3b-4c0d-43ee-939c-fc605471f1b1",
   "metadata": {},
   "outputs": [
    {
     "name": "stdout",
     "output_type": "stream",
     "text": [
      "  First Name        Country         Age        Date  Id\n",
      "0      Dulce  United States        32.0  15/10/2017  10\n",
      "1       Mara  Great Britain  90000000.0  16/08/2016  11\n",
      "2     Philip         France        36.0  21/05/2015  12\n",
      "3   Kathleen       Kathleen        13.0  15/10/2017  13\n",
      "4     Philip       90000000        58.0  16/08/2016  14\n",
      "5     Gaston  United States        24.0  21/05/2015  15\n",
      "6       Etta          Japan        56.0  15/10/2017  16\n",
      "  First Name        Country      Age        Date  Id\n",
      "0      Dulce  United States     32.0  15/10/2017  10\n",
      "1       Mara  Great Britain  99999.0  16/08/2016  11\n",
      "2     Philip         France     36.0  21/05/2015  12\n",
      "3   Kathleen       Kathleen     13.0  15/10/2017  13\n",
      "4     Philip          99999     58.0  16/08/2016  14\n",
      "5     Gaston  United States     24.0  21/05/2015  15\n",
      "6       Etta          Japan     56.0  15/10/2017  16\n"
     ]
    }
   ],
   "source": [
    "# replace all null value with 99999\n",
    "print (data_x.fillna(90000000))\n",
    "print (data_x.replace(np.nan,99999))"
   ]
  },
  {
   "cell_type": "code",
   "execution_count": 10,
   "id": "12c36e62-14c5-434c-ad7d-722e2c037532",
   "metadata": {},
   "outputs": [
    {
     "name": "stdout",
     "output_type": "stream",
     "text": [
      "  First Name        Country    Age        Date  Id\n",
      "0      Dulce  United States  32.00  15/10/2017  10\n",
      "1       Mara  Great Britain  35.55  16/08/2016  11\n",
      "2     Philip         France  36.00  21/05/2015  12\n",
      "3   Kathleen       Kathleen  13.00  15/10/2017  13\n",
      "4     Philip  United States  58.00  16/08/2016  14\n",
      "5     Gaston  United States  24.00  21/05/2015  15\n",
      "6       Etta          Japan  56.00  15/10/2017  16\n"
     ]
    }
   ],
   "source": [
    "#replace the data in Age column by 35.55\n",
    "data_x[\"Age\"]=data_x[\"Age\"].replace(np.nan,35.55)\n",
    "print(data_x)"
   ]
  },
  {
   "cell_type": "code",
   "execution_count": 5,
   "id": "09293199-7666-4923-ac37-01f4637143c0",
   "metadata": {},
   "outputs": [
    {
     "name": "stdout",
     "output_type": "stream",
     "text": [
      "  First Name        Country   Age        Date  Id  Bonus%\n",
      "0      Dulce  United States  32.0  15/10/2017  10       0\n",
      "1       Mara  Great Britain   NaN  16/08/2016  11       1\n",
      "2     Philip         France  36.0  21/05/2015  12       3\n",
      "3   Kathleen       Kathleen  13.0  15/10/2017  13       2\n",
      "4     Philip  United States  58.0  16/08/2016  14       0\n",
      "5     Gaston  United States  24.0  21/05/2015  15       0\n",
      "6       Etta          Japan   NaN  15/10/2017  16       0\n",
      "7      Talli         Norway  45.0  15/10/2017  17       1\n"
     ]
    }
   ],
   "source": [
    "#fill null value backwordly\n",
    "data_x[\"Country\"]=data_x[\"Country\"].bfill()\n",
    "print(data_x)"
   ]
  },
  {
   "cell_type": "code",
   "execution_count": 15,
   "id": "d9c85b78-4bc6-4453-b8f7-273be23cd427",
   "metadata": {},
   "outputs": [
    {
     "name": "stdout",
     "output_type": "stream",
     "text": [
      "  First Name        Country   Age        Date  Id  Bonus%  GetBonus\n",
      "0      Dulce  United States  32.0  15/10/2017  10       0  No Bonus\n",
      "1       Mara  Great Britain   NaN  16/08/2016  11       1     Bonus\n",
      "2     Philip         France  36.0  21/05/2015  12       3     Bonus\n",
      "3   Kathleen       Kathleen  13.0  15/10/2017  13       2     Bonus\n",
      "4     Philip            NaN  58.0  16/08/2016  14       0  No Bonus\n",
      "5     Gaston  United States  24.0  21/05/2015  15       0  No Bonus\n",
      "6       Etta          Japan   NaN  15/10/2017  16       0  No Bonus\n",
      "7      Talli         Norway  45.0  15/10/2017  17       1     Bonus\n"
     ]
    }
   ],
   "source": [
    "#transform a column to another by condition\n",
    "data_x.loc[data_x[\"Bonus%\"]==0,\"GetBonus\"]=\"No Bonus\"\n",
    "data_x.loc[data_x[\"Bonus%\"]>0,\"GetBonus\"]=\"Bonus\"\n",
    "print(data_x)"
   ]
  },
  {
   "cell_type": "code",
   "execution_count": 16,
   "id": "a268a80b-a53e-40c5-9056-62fa35d56001",
   "metadata": {},
   "outputs": [
    {
     "name": "stdout",
     "output_type": "stream",
     "text": [
      "  First Name        Country   Age        Date  Id  Bonus%  GetBonus  \\\n",
      "0      Dulce  United States  32.0  15/10/2017  10       0  No Bonus   \n",
      "1       Mara  Great Britain   NaN  16/08/2016  11       1     Bonus   \n",
      "2     Philip         France  36.0  21/05/2015  12       3     Bonus   \n",
      "3   Kathleen       Kathleen  13.0  15/10/2017  13       2     Bonus   \n",
      "4     Philip            NaN  58.0  16/08/2016  14       0  No Bonus   \n",
      "5     Gaston  United States  24.0  21/05/2015  15       0  No Bonus   \n",
      "6       Etta          Japan   NaN  15/10/2017  16       0  No Bonus   \n",
      "7      Talli         Norway  45.0  15/10/2017  17       1     Bonus   \n",
      "\n",
      "              Full Name  \n",
      "0   Dulce United States  \n",
      "1    Mara Great Britain  \n",
      "2         Philip France  \n",
      "3     Kathleen Kathleen  \n",
      "4                   NaN  \n",
      "5  Gaston United States  \n",
      "6            Etta Japan  \n",
      "7          Talli Norway  \n"
     ]
    }
   ],
   "source": [
    "#add column \n",
    "data_x[\"Full Name\"]=data_x[\"First Name\"]+\" \"+data_x[\"Country\"]\n",
    "print(data_x)"
   ]
  },
  {
   "cell_type": "code",
   "execution_count": 8,
   "id": "fa1f47ca-8af7-42c2-9953-895c0cae222d",
   "metadata": {},
   "outputs": [
    {
     "name": "stdout",
     "output_type": "stream",
     "text": [
      "  First Name        Country   Age        Date  Id  Bonus%  ID Percent\n",
      "0      Dulce  United States  32.0  15/10/2017  10       0         2.0\n",
      "1       Mara  Great Britain   NaN  16/08/2016  11       1         2.2\n",
      "2     Philip         France  36.0  21/05/2015  12       3         2.4\n",
      "3   Kathleen       Kathleen  13.0  15/10/2017  13       2         2.6\n",
      "4     Philip            NaN  58.0  16/08/2016  14       0         2.8\n",
      "5     Gaston  United States  24.0  21/05/2015  15       0         3.0\n",
      "6       Etta          Japan   NaN  15/10/2017  16       0         3.2\n",
      "7      Talli         Norway  45.0  15/10/2017  17       1         3.4\n"
     ]
    }
   ],
   "source": [
    "#column transformation\n",
    "data_x[\"ID Percent\"]=(data_x[\"Id\"]*20)/100\n",
    "print(data_x)"
   ]
  },
  {
   "cell_type": "code",
   "execution_count": 17,
   "id": "26281878-f788-4bb2-a0a1-b5fa76f13acd",
   "metadata": {},
   "outputs": [
    {
     "name": "stdout",
     "output_type": "stream",
     "text": [
      "  First Name        Country   Age        Date  Id  Bonus%  Gender\n",
      "0      Dulce  United States  32.0  15/10/2017  10       0    Male\n",
      "1       Mara  Great Britain   NaN  16/08/2016  11       1  Female\n",
      "2     Philip         France  36.0  21/05/2015  12       3    Male\n",
      "3   Kathleen       Kathleen  13.0  15/10/2017  13       2  Female\n",
      "4     Philip            NaN  58.0  16/08/2016  14       0    Male\n",
      "5     Gaston  United States  24.0  21/05/2015  15       0    Male\n",
      "6       Etta          Japan   NaN  15/10/2017  16       0  Female\n",
      "7      Talli         Norway  45.0  15/10/2017  17       1    Male\n"
     ]
    }
   ],
   "source": [
    "print(data_x)"
   ]
  },
  {
   "cell_type": "code",
   "execution_count": 28,
   "id": "6a926512-7bd3-4f58-b845-8059d318312e",
   "metadata": {},
   "outputs": [
    {
     "name": "stdout",
     "output_type": "stream",
     "text": [
      "                      Id\n",
      "Country       Gender    \n",
      "France        Female   1\n",
      "              Male     2\n",
      "Japan         Female   2\n",
      "United States Female   1\n",
      "              Male     1\n"
     ]
    }
   ],
   "source": [
    "#Groupby Method\n",
    "gp1=data_x.groupby([\"Country\",\"Gender\"]).agg({\"Id\":\"count\"})\n",
    "print(gp1)"
   ]
  },
  {
   "cell_type": "code",
   "execution_count": 35,
   "id": "f2d84868-7259-49cb-ad5d-cdcafd0b7453",
   "metadata": {},
   "outputs": [
    {
     "name": "stdout",
     "output_type": "stream",
     "text": [
      "                Age  Id\n",
      "Country                \n",
      "France         40.5  17\n",
      "Japan          13.0  16\n",
      "United States  28.0  15\n"
     ]
    }
   ],
   "source": [
    "gp2=data_x.groupby([\"Country\"]).agg({\"Age\":\"mean\",\"Id\":\"max\"})\n",
    "print(gp2)"
   ]
  },
  {
   "cell_type": "code",
   "execution_count": 14,
   "id": "546ba578-b136-46db-9377-960c8a43737e",
   "metadata": {},
   "outputs": [
    {
     "name": "stdout",
     "output_type": "stream",
     "text": [
      "   ID    Name Age\n",
      "0  01    Atiq    \n",
      "1  02   Rasha  24\n",
      "2  03   Tomal    \n",
      "3  04  Shakil  25\n",
      "4  05  Fardin  22\n",
      "   ID Salary\n",
      "0  01  40000\n",
      "1  02  60000\n",
      "2  03  80000\n",
      "3  04  70000\n",
      "4  07  60000\n"
     ]
    }
   ],
   "source": [
    "# Marge & concatinate\n",
    "import pandas as pd\n",
    "data1={\"ID\":[\"01\",\"02\",\"03\",\"04\",\"05\"],\n",
    "       \"Name\":[\"Atiq\",\"Rasha\",\"Tomal\",\"Shakil\",\"Fardin\"],\n",
    "       \"Age\":[\"\",\"24\",\"\",\"25\",\"22\"]}\n",
    "data2={\"ID\":[\"01\",\"02\",\"03\",\"04\",\"07\"],\n",
    "       \"Salary\":[\"40000\",\"60000\",\"80000\",\"70000\",\"60000\"]}\n",
    "df1=pd.DataFrame(data1)\n",
    "df2=pd.DataFrame(data2)\n",
    "print(df1)\n",
    "print(df2)"
   ]
  },
  {
   "cell_type": "code",
   "execution_count": 15,
   "id": "50b5e06f-8ae6-4719-810d-cec219cb0154",
   "metadata": {},
   "outputs": [
    {
     "name": "stdout",
     "output_type": "stream",
     "text": [
      "   ID    Name Age Salary\n",
      "0  01    Atiq      40000\n",
      "1  02   Rasha  24  60000\n",
      "2  03   Tomal      80000\n",
      "3  04  Shakil  25  70000\n",
      "4  05  Fardin  22    NaN\n"
     ]
    }
   ],
   "source": [
    "print(pd.merge(df1,df2,on=\"ID\",how=\"left\" ))\n",
    "#print(pd.merge(df1,df2,on=\"ID\",how=\"full\" ))"
   ]
  },
  {
   "cell_type": "code",
   "execution_count": 16,
   "id": "91245946-954b-4fac-abe1-0eef1b5a4387",
   "metadata": {},
   "outputs": [
    {
     "name": "stdout",
     "output_type": "stream",
     "text": [
      "   ID    Name  Age Salary\n",
      "0  01    Atiq         NaN\n",
      "1  02   Rasha   24    NaN\n",
      "2  03   Tomal         NaN\n",
      "3  04  Shakil   25    NaN\n",
      "4  05  Fardin   22    NaN\n",
      "0  01     NaN  NaN  40000\n",
      "1  02     NaN  NaN  60000\n",
      "2  03     NaN  NaN  80000\n",
      "3  04     NaN  NaN  70000\n",
      "4  07     NaN  NaN  60000\n"
     ]
    }
   ],
   "source": [
    "print(pd.concat([df1,df2]))"
   ]
  },
  {
   "cell_type": "code",
   "execution_count": 1,
   "id": "a48f99df-18c9-4cb5-ad59-87916fd2543e",
   "metadata": {},
   "outputs": [
    {
     "name": "stdout",
     "output_type": "stream",
     "text": [
      "   Fruits  Price  Quantity\n",
      "0   Mango    100        15\n",
      "1  Apples    150        10\n",
      "2  Banana     50         5\n",
      "3  Papaya     35         3\n",
      "   Fruits  Price  Quantity\n",
      "0   Mango    100        15\n",
      "1  Apples    150        10\n",
      "2  Banana     50         5\n",
      "3  Papaya     35         3\n"
     ]
    }
   ],
   "source": [
    "#compare data\n",
    "import pandas as pd\n",
    "dict= { \"Fruits\":[\"Mango\",\"Apples\",\"Banana\",\"Papaya\",],\n",
    "        \"Price\": [100,150,50,35],\n",
    "        \"Quantity\": [15,10,5,3]}\n",
    "df1= pd.DataFrame(dict)\n",
    "print(df1)"
   ]
  },
  {
   "cell_type": "code",
   "execution_count": 4,
   "id": "a98d71c4-0725-4ed0-87ef-a52f16c11388",
   "metadata": {},
   "outputs": [
    {
     "name": "stdout",
     "output_type": "stream",
     "text": [
      "   Price        Quantity      \n",
      "    self  other     self other\n",
      "0  100.0  150.0     15.0  10.0\n",
      "1  150.0  200.0     10.0  20.0\n",
      "3   35.0   70.0      3.0  10.0\n"
     ]
    }
   ],
   "source": [
    "df2=df1.copy()\n",
    "df2.loc[0,\"Price\"]=150\n",
    "df2.loc[1,\"Price\"]=200\n",
    "df2.loc[3,\"Price\"]=70\n",
    "df2.loc[0,\"Quantity\"]=10\n",
    "df2.loc[1,\"Quantity\"]=20\n",
    "df2.loc[3,\"Quantity\"]=10\n",
    "\n",
    "\n",
    "print(df1.compare(df2))"
   ]
  },
  {
   "cell_type": "code",
   "execution_count": 7,
   "id": "7971ebda-8df0-427a-94bf-ea7da1f09298",
   "metadata": {},
   "outputs": [
    {
     "name": "stdout",
     "output_type": "stream",
     "text": [
      "  Keys  Names Houses\n",
      "0   K1   Jhon    red\n",
      "1   K2    Ben   blue\n",
      "2   k1  David  green\n",
      "3   K2  Peter    red\n"
     ]
    }
   ],
   "source": [
    "#pivoting\n",
    "import pandas as pd\n",
    "dict ={\"Keys\":[\"K1\",\"K2\",\"k1\",\"K2\"],\n",
    "       \"Names\":[\"Jhon\",\"Ben\",\"David\",\"Peter\"],\n",
    "       \"Houses\":[\"red\",\"blue\",\"green\",\"red\"]}\n",
    "df=pd.DataFrame(dict)\n",
    "print(df)"
   ]
  },
  {
   "cell_type": "code",
   "execution_count": 9,
   "id": "c20f3de7-c21e-4bd6-8a8c-615a14af8087",
   "metadata": {},
   "outputs": [
    {
     "ename": "TypeError",
     "evalue": "DataFrame.pivot() takes 1 positional argument but 3 were given",
     "output_type": "error",
     "traceback": [
      "\u001b[0;31m---------------------------------------------------------------------------\u001b[0m",
      "\u001b[0;31mTypeError\u001b[0m                                 Traceback (most recent call last)",
      "Cell \u001b[0;32mIn[9], line 1\u001b[0m\n\u001b[0;32m----> 1\u001b[0m \u001b[38;5;28mprint\u001b[39m(df\u001b[38;5;241m.\u001b[39mpivot(\u001b[38;5;124m\"\u001b[39m\u001b[38;5;124mKeys\u001b[39m\u001b[38;5;124m\"\u001b[39m,\u001b[38;5;124m\"\u001b[39m\u001b[38;5;124mNames\u001b[39m\u001b[38;5;124m\"\u001b[39m))\n",
      "\u001b[0;31mTypeError\u001b[0m: DataFrame.pivot() takes 1 positional argument but 3 were given"
     ]
    }
   ],
   "source": [
    "print(df.pivot(\"Keys\",\"Names\"))"
   ]
  },
  {
   "cell_type": "code",
   "execution_count": null,
   "id": "d1ce0c86-1013-4388-b944-6cd0bf2ba448",
   "metadata": {},
   "outputs": [],
   "source": []
  }
 ],
 "metadata": {
  "kernelspec": {
   "display_name": "Python 3 (ipykernel)",
   "language": "python",
   "name": "python3"
  },
  "language_info": {
   "codemirror_mode": {
    "name": "ipython",
    "version": 3
   },
   "file_extension": ".py",
   "mimetype": "text/x-python",
   "name": "python",
   "nbconvert_exporter": "python",
   "pygments_lexer": "ipython3",
   "version": "3.12.2"
  }
 },
 "nbformat": 4,
 "nbformat_minor": 5
}
