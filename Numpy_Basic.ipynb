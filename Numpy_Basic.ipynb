{
 "cells": [
  {
   "cell_type": "code",
   "execution_count": 2,
   "id": "90960020-714f-4c0c-9a99-bc75033aac9f",
   "metadata": {},
   "outputs": [
    {
     "name": "stdout",
     "output_type": "stream",
     "text": [
      "[20 30 40 50 60 70]\n"
     ]
    }
   ],
   "source": [
    "#concatinate ,split\n",
    "import numpy as np\n",
    "arr1=np.array([20,30,40])\n",
    "arr2=np.array([50,60,70])\n",
    "print(np.concatenate([arr1,arr2]))"
   ]
  },
  {
   "cell_type": "code",
   "execution_count": 13,
   "id": "84c43404-1669-48ca-a315-9d1047f42c32",
   "metadata": {},
   "outputs": [
    {
     "name": "stdout",
     "output_type": "stream",
     "text": [
      "[20 30 40 50 60 70]\n"
     ]
    }
   ],
   "source": [
    "print(np.concatenate([arr1,arr2]))"
   ]
  },
  {
   "cell_type": "code",
   "execution_count": 4,
   "id": "190748c2-a985-41d8-a483-675640c38675",
   "metadata": {},
   "outputs": [
    {
     "name": "stdout",
     "output_type": "stream",
     "text": [
      "[array([20, 30]), array([40])]\n"
     ]
    }
   ],
   "source": [
    "print(np.array_split(arr1,2))"
   ]
  },
  {
   "cell_type": "code",
   "execution_count": 17,
   "id": "714135d6-c2a8-4b4c-995d-00b18de645dd",
   "metadata": {},
   "outputs": [
    {
     "name": "stdout",
     "output_type": "stream",
     "text": [
      "[20 30 40 59 49]\n"
     ]
    }
   ],
   "source": [
    "#append, insert ,delete\n",
    "print(np.append(arr1,[59,49]))"
   ]
  },
  {
   "cell_type": "code",
   "execution_count": 18,
   "id": "cc732bbb-65fc-4345-947c-6e9d76b57d92",
   "metadata": {},
   "outputs": [
    {
     "name": "stdout",
     "output_type": "stream",
     "text": [
      "[20 22 33 30 40]\n"
     ]
    }
   ],
   "source": [
    "print(np.insert(arr1,1,[22,33]))"
   ]
  },
  {
   "cell_type": "code",
   "execution_count": 5,
   "id": "0c1ca02f-97f6-4a80-9cea-87af24f7406e",
   "metadata": {},
   "outputs": [
    {
     "name": "stdout",
     "output_type": "stream",
     "text": [
      "[[10 20 30]\n",
      " [22 55 77]\n",
      " [50 60 70]]\n"
     ]
    }
   ],
   "source": [
    "arr3=np.array([[10,20,30],[50,60,70]])\n",
    "arr4=np.array([[10,20,30],[50,60,70]])\n",
    "print(np.insert(arr3,1,[22,55,77],axis=0))"
   ]
  },
  {
   "cell_type": "code",
   "execution_count": 60,
   "id": "ce05a7f2-ce66-4ef2-ac35-64548c8a1f16",
   "metadata": {},
   "outputs": [
    {
     "name": "stdout",
     "output_type": "stream",
     "text": [
      "[[10 22 20 30]\n",
      " [50 55 60 70]]\n"
     ]
    }
   ],
   "source": [
    "print(np.insert(arr3,1,[22,55],axis=1))"
   ]
  },
  {
   "cell_type": "code",
   "execution_count": 13,
   "id": "95bad291-5a3a-44a8-842a-0ed362ca53c1",
   "metadata": {},
   "outputs": [
    {
     "name": "stdout",
     "output_type": "stream",
     "text": [
      "[[20 30]\n",
      " [60 70]]\n"
     ]
    }
   ],
   "source": [
    "print(np.delete(arr3,0,axis=1))\n",
    "#print(np.delete(arr4,[1,2]))"
   ]
  },
  {
   "cell_type": "code",
   "execution_count": 14,
   "id": "1851d1d8-367d-4f20-949c-39e29e224e2c",
   "metadata": {},
   "outputs": [
    {
     "name": "stdout",
     "output_type": "stream",
     "text": [
      "[2 4 6 3 7 3 7 9]\n"
     ]
    }
   ],
   "source": [
    "#sort,filter,search\n",
    "arr5=np.array([2,4,6,3,7,3,7,9])\n",
    "print(np.short(arr5))"
   ]
  },
  {
   "cell_type": "code",
   "execution_count": 6,
   "id": "b6683db9-1827-4a39-afdb-69c0dfc1ecc3",
   "metadata": {},
   "outputs": [
    {
     "name": "stdout",
     "output_type": "stream",
     "text": [
      "(array([0, 7]),)\n"
     ]
    }
   ],
   "source": [
    "arr6 = np.array([2,5,7,9,5,3,7,4])\n",
    "print( np.where(arr6% 2 == 0))"
   ]
  },
  {
   "cell_type": "code",
   "execution_count": 19,
   "id": "e55a3177-d10b-49b0-afd7-970b26684e58",
   "metadata": {},
   "outputs": [
    {
     "name": "stdout",
     "output_type": "stream",
     "text": [
      "[5 7 9 5 7]\n"
     ]
    }
   ],
   "source": [
    "print(arr6[arr6>4])"
   ]
  },
  {
   "cell_type": "code",
   "execution_count": 3,
   "id": "01e3cf55-bf7a-4f61-b69b-b5200440f33b",
   "metadata": {},
   "outputs": [
    {
     "name": "stdout",
     "output_type": "stream",
     "text": [
      "300\n",
      "20\n",
      "80\n",
      "6\n",
      "50.0\n",
      "[ 20  50  90 150 220 300]\n",
      "[        20        600      24000    1440000  100800000 8064000000]\n"
     ]
    }
   ],
   "source": [
    "#aggregate function\n",
    "arr7 = np.array([20,30,40,60,70,80])\n",
    "print(np.sum(arr7))\n",
    "print(np.min(arr7))\n",
    "print(np.max(arr7))\n",
    "print(np.size(arr7))\n",
    "print(np.mean(arr7))\n",
    "print(np.cumsum(arr7))\n",
    "print(np.cumprod(arr7))"
   ]
  },
  {
   "cell_type": "code",
   "execution_count": 11,
   "id": "18b17df4-3e1f-4704-8d8f-22dbfd9a4cfb",
   "metadata": {},
   "outputs": [
    {
     "name": "stdout",
     "output_type": "stream",
     "text": [
      "[100 140 400 600 700 800 400 300] \n",
      " [10 50 30 50 50 30 10 90] \n",
      " \n",
      "\n",
      "[[  100   140   400   600   700   800   400   300]\n",
      " [ 1000  7000 12000 30000 35000 24000  4000 27000]]\n"
     ]
    }
   ],
   "source": [
    "a=[100,140,400,600,700,800,400,300]\n",
    "b=[10,50,30,50,50,30,10,90]\n",
    "price = np.array(a)\n",
    "quantity = np.array(b)\n",
    "print(price,\"\\n\",quantity,\"\\n\",\"\\n\")\n"
   ]
  },
  {
   "cell_type": "code",
   "execution_count": 19,
   "id": "f7e0e089-cf1d-438f-a7d4-d1b903557598",
   "metadata": {},
   "outputs": [
    {
     "name": "stdout",
     "output_type": "stream",
     "text": [
      "[[  100   140   400   600   700   800   400   300]\n",
      " [ 1000  7000 12000 30000 35000 24000  4000 27000]]\n",
      "[ 1000  7000 12000 30000 35000 24000  4000 27000]\n",
      "140000\n"
     ]
    }
   ],
   "source": [
    "c=np.cumprod([price,quantity],axis=0)\n",
    "print(c)\n",
    "#print(c[0])\n",
    "print(c[1])\n",
    "print(c[1].sum())"
   ]
  },
  {
   "cell_type": "code",
   "execution_count": 26,
   "id": "2d29937b-07a5-4338-9613-b8f3588b3947",
   "metadata": {},
   "outputs": [
    {
     "name": "stdout",
     "output_type": "stream",
     "text": [
      "43.63636363636363\n",
      "40.0\n",
      "30\n",
      "21.85602778212965\n"
     ]
    }
   ],
   "source": [
    "#statical function\n",
    "import statistics as stat\n",
    "bakedFood=[10,20,40,60,30,40,30,30,80,70,70]\n",
    "a=np.array(bakedFood)\n",
    "\n",
    "print(np.mean(bakedFood))\n",
    "print(np.median(bakedFood))\n",
    "print(stat.mode(bakedFood)) #numpy have no \"mode\" attribute\n",
    "print(np.std(bakedFood)) #stenderd deviation"
   ]
  },
  {
   "cell_type": "code",
   "execution_count": 29,
   "id": "a3a54ea4-78bc-477d-93c9-06fe8691311f",
   "metadata": {},
   "outputs": [
    {
     "name": "stdout",
     "output_type": "stream",
     "text": [
      "[[1.         0.99015454]\n",
      " [0.99015454 1.        ]]\n"
     ]
    }
   ],
   "source": [
    "tobacco_consumption = [30,50,10,30,50,40]\n",
    "deaths = [100,120,70,100,120,112]\n",
    "print(np.corrcoef([tobacco_consumption,deaths])) #positive valu means proportional, negative means inversly proportional\n"
   ]
  },
  {
   "cell_type": "code",
   "execution_count": null,
   "id": "cde601e5-089d-4efe-85c8-75c98948550f",
   "metadata": {},
   "outputs": [],
   "source": []
  }
 ],
 "metadata": {
  "kernelspec": {
   "display_name": "Python 3 (ipykernel)",
   "language": "python",
   "name": "python3"
  },
  "language_info": {
   "codemirror_mode": {
    "name": "ipython",
    "version": 3
   },
   "file_extension": ".py",
   "mimetype": "text/x-python",
   "name": "python",
   "nbconvert_exporter": "python",
   "pygments_lexer": "ipython3",
   "version": "3.12.2"
  }
 },
 "nbformat": 4,
 "nbformat_minor": 5
}
